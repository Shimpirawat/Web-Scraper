{
 "cells": [
  {
   "cell_type": "markdown",
   "metadata": {},
   "source": [
    "# Webscraper to scrape List of top 30 Featured Topics on Github-"
   ]
  },
  {
   "cell_type": "code",
   "execution_count": null,
   "metadata": {},
   "outputs": [],
   "source": [
    "pip install requests "
   ]
  },
  {
   "cell_type": "code",
   "execution_count": null,
   "metadata": {},
   "outputs": [],
   "source": [
    "import requests\n",
    "url= \"https://github.com/topics\"\n",
    "r = requests.get(url)\n",
    "r.status_code\n",
    "len(r.text)\n",
    "pageContent = r.text\n",
    "pageContent[:1500]"
   ]
  },
  {
   "cell_type": "code",
   "execution_count": null,
   "metadata": {},
   "outputs": [],
   "source": [
    "pip install beautifulsoup4"
   ]
  },
  {
   "cell_type": "code",
   "execution_count": null,
   "metadata": {},
   "outputs": [],
   "source": [
    "# Code to parse all the page content.\n",
    "from bs4 import BeautifulSoup\n",
    "soup = BeautifulSoup(pageContent, \"html.parser\")\n",
    "soup.prettify()\n",
    "# type(soup)"
   ]
  },
  {
   "cell_type": "code",
   "execution_count": null,
   "metadata": {},
   "outputs": [],
   "source": [
    "pip install pandas "
   ]
  },
  {
   "cell_type": "code",
   "execution_count": 10,
   "metadata": {},
   "outputs": [],
   "source": [
    "import pandas as pd"
   ]
  },
  {
   "cell_type": "code",
   "execution_count": 17,
   "metadata": {},
   "outputs": [],
   "source": [
    "# step 1: \n",
    "\n",
    "#funtion to get titles of the topics.\n",
    "def getTopicTitles(soup):\n",
    "    findTitle = 'f3 lh-condensed mb-0 mt-1 Link--primary'\n",
    "    titleTags = soup.find_all(\"p\",class_=findTitle)\n",
    "\n",
    "    Title=[]\n",
    "    for tag in titleTags:\n",
    "        Title.append(tag.text)\n",
    "    return Title\n",
    "\n",
    "#function to get description of the topics.\n",
    "def getTopicDescr(soup):\n",
    "    findDescr = 'f5 color-fg-muted mb-0 mt-1'\n",
    "    descrTags = soup.find_all(\"p\",class_=findDescr)\n",
    "    \n",
    "    Descr = []\n",
    "    for tag in descrTags:\n",
    "        Descr.append(tag.text.strip())\n",
    "    return Descr     \n",
    "\n",
    "#function to get URL of the topics.\n",
    "def getTopicUrls(soup):\n",
    "    findLinkTags = 'no-underline flex-1 d-flex flex-column'\n",
    "    linkTags = soup.find_all(\"a\",class_=findLinkTags)\n",
    "\n",
    "    Urls = []\n",
    "    baseUrl= 'https://github.com'\n",
    "    for tag in linkTags:\n",
    "        Urls.append(baseUrl + tag['href'])\n",
    "    return Urls    \n",
    "    \n",
    "\n",
    "#function to scrape the required data of the topic and converting it into dataframe .\n",
    "def scrapeTopics():\n",
    "    url = 'https://github.com/topics'\n",
    "    r = requests.get(url)\n",
    "    if r.status_code != 200:\n",
    "        raise Exception(\"loading failed{}\".format(topicUrl))\n",
    "    topicDict = {\n",
    "        \"TITLE\": getTopicTitles(soup),\n",
    "        \"DESCRIPTION\":getTopicDescr(soup),\n",
    "        \"URLS\": getTopicUrls(soup)\n",
    "    }\n",
    "    return pd.DataFrame(topicDict)  # converting it into pandas df    "
   ]
  },
  {
   "cell_type": "code",
   "execution_count": null,
   "metadata": {},
   "outputs": [],
   "source": [
    "scrapeTopics()"
   ]
  },
  {
   "cell_type": "code",
   "execution_count": 19,
   "metadata": {},
   "outputs": [],
   "source": [
    "# step 2: create a csv file of the extracted data.\n",
    "scrapeTopics().to_csv('topics.csv', index=None)"
   ]
  }
 ],
 "metadata": {
  "interpreter": {
   "hash": "60f053225bb1bd3838ef5463a27949bd6b19d8f0b025db527c5574f8d7f26474"
  },
  "kernelspec": {
   "display_name": "Python 3.9.7 ('base')",
   "language": "python",
   "name": "python3"
  },
  "language_info": {
   "codemirror_mode": {
    "name": "ipython",
    "version": 3
   },
   "file_extension": ".py",
   "mimetype": "text/x-python",
   "name": "python",
   "nbconvert_exporter": "python",
   "pygments_lexer": "ipython3",
   "version": "3.9.7"
  },
  "orig_nbformat": 4
 },
 "nbformat": 4,
 "nbformat_minor": 2
}
